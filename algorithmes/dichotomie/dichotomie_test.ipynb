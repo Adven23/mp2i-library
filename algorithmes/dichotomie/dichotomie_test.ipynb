{
 "cells": [
  {
   "cell_type": "code",
   "execution_count": 4,
   "id": "213e6b52-575e-42b0-808b-9f4abee1a3ed",
   "metadata": {},
   "outputs": [
    {
     "name": "stdout",
     "output_type": "stream",
     "text": [
      "val dichotomie : 'a array -> 'a -> bool = <fun>\n"
     ]
    }
   ],
   "source": [
    "#use \"dichotomie.ml\""
   ]
  },
  {
   "cell_type": "code",
   "execution_count": 5,
   "id": "8f1f78b0-4957-4332-a6f3-43b93097c409",
   "metadata": {},
   "outputs": [
    {
     "data": {
      "text/plain": [
       "- : bool = false\n"
      ]
     },
     "execution_count": 5,
     "metadata": {},
     "output_type": "execute_result"
    },
    {
     "data": {
      "text/plain": [
       "- : bool = true\n"
      ]
     },
     "execution_count": 5,
     "metadata": {},
     "output_type": "execute_result"
    }
   ],
   "source": [
    "dichotomie [|1;2;3;4;5|] 6 ;;\n",
    "dichotomie [|1;2;3;4;5|] 3"
   ]
  },
  {
   "cell_type": "code",
   "execution_count": null,
   "id": "19bbac9e-0140-4f8c-b1ec-6eead7087a76",
   "metadata": {},
   "outputs": [],
   "source": []
  }
 ],
 "metadata": {
  "kernelspec": {
   "display_name": "OCaml default",
   "language": "OCaml",
   "name": "ocaml-jupyter"
  },
  "language_info": {
   "codemirror_mode": "text/x-ocaml",
   "file_extension": ".ml",
   "mimetype": "text/x-ocaml",
   "name": "OCaml",
   "nbconverter_exporter": null,
   "pygments_lexer": "OCaml",
   "version": "4.08.1"
  }
 },
 "nbformat": 4,
 "nbformat_minor": 5
}
