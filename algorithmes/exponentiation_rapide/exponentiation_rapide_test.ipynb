{
 "cells": [
  {
   "cell_type": "code",
   "execution_count": 3,
   "id": "ce74deb4-7198-48f6-b15f-39176db9ef8b",
   "metadata": {},
   "outputs": [
    {
     "name": "stdout",
     "output_type": "stream",
     "text": [
      "val exp_rapide : int -> int -> int = <fun>\n"
     ]
    }
   ],
   "source": [
    "#use \"exponentiation_rapide.ml\""
   ]
  },
  {
   "cell_type": "code",
   "execution_count": 5,
   "id": "d9af01e0-6d78-4499-9195-bd58caaf227a",
   "metadata": {},
   "outputs": [
    {
     "data": {
      "text/plain": [
       "- : int = 16\n"
      ]
     },
     "execution_count": 5,
     "metadata": {},
     "output_type": "execute_result"
    }
   ],
   "source": [
    "exp_rapide 2 4"
   ]
  },
  {
   "cell_type": "code",
   "execution_count": null,
   "id": "47dc7814-b40e-48f8-af80-0645d0b87d9d",
   "metadata": {},
   "outputs": [],
   "source": []
  }
 ],
 "metadata": {
  "kernelspec": {
   "display_name": "OCaml default",
   "language": "OCaml",
   "name": "ocaml-jupyter"
  },
  "language_info": {
   "codemirror_mode": "text/x-ocaml",
   "file_extension": ".ml",
   "mimetype": "text/x-ocaml",
   "name": "OCaml",
   "nbconverter_exporter": null,
   "pygments_lexer": "OCaml",
   "version": "4.08.1"
  }
 },
 "nbformat": 4,
 "nbformat_minor": 5
}
