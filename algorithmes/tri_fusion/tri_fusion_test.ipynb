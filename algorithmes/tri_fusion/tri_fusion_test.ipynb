{
 "cells": [
  {
   "cell_type": "code",
   "execution_count": 1,
   "id": "e6dfd38a-444a-433c-829a-d024d5a27736",
   "metadata": {},
   "outputs": [
    {
     "name": "stdout",
     "output_type": "stream",
     "text": [
      "val split : 'a list -> 'a list * 'a list = <fun>\n",
      "val fusion : 'a list -> 'a list -> 'a list = <fun>\n",
      "val tri : 'a list -> 'a list = <fun>\n"
     ]
    }
   ],
   "source": [
    "#use \"tri_fusion.ml\""
   ]
  },
  {
   "cell_type": "code",
   "execution_count": 3,
   "id": "7d53877c-8beb-4b84-bb79-73c2ef3c44ad",
   "metadata": {},
   "outputs": [
    {
     "data": {
      "text/plain": [
       "- : int list = [2; 3; 4; 5; 6; 14; 16; 17; 19]\n"
      ]
     },
     "execution_count": 3,
     "metadata": {},
     "output_type": "execute_result"
    }
   ],
   "source": [
    "tri [17;2;5;19;3;14;16;6;4]"
   ]
  },
  {
   "cell_type": "code",
   "execution_count": null,
   "id": "373b7428-9270-4458-ac4e-87d8648fbdbb",
   "metadata": {},
   "outputs": [],
   "source": []
  }
 ],
 "metadata": {
  "kernelspec": {
   "display_name": "OCaml default",
   "language": "OCaml",
   "name": "ocaml-jupyter"
  },
  "language_info": {
   "codemirror_mode": "text/x-ocaml",
   "file_extension": ".ml",
   "mimetype": "text/x-ocaml",
   "name": "OCaml",
   "nbconverter_exporter": null,
   "pygments_lexer": "OCaml",
   "version": "4.08.1"
  }
 },
 "nbformat": 4,
 "nbformat_minor": 5
}
