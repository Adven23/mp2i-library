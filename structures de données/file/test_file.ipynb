{
 "cells": [
  {
   "cell_type": "code",
   "execution_count": 8,
   "id": "6eeb0b99-9748-4e1b-b453-e853f9667835",
   "metadata": {},
   "outputs": [
    {
     "name": "stdout",
     "output_type": "stream",
     "text": [
      "type 'a file = { l1 : 'a list; l2 : 'a list; }\n",
      "val vide : 'a file -> bool = <fun>\n",
      "val ajout : 'a -> 'a file -> 'a file = <fun>\n",
      "val suppr : 'a file -> 'a * 'a file = <fun>\n"
     ]
    }
   ],
   "source": [
    "#use \"file.ml\""
   ]
  },
  {
   "cell_type": "code",
   "execution_count": 10,
   "id": "083a0aa3-3978-4899-b61f-ef6ef974a771",
   "metadata": {},
   "outputs": [
    {
     "data": {
      "text/plain": [
       "val file : int file = {l1 = [1; 2; 3; 4]; l2 = [8; 7; 6; 5]}\n"
      ]
     },
     "execution_count": 10,
     "metadata": {},
     "output_type": "execute_result"
    }
   ],
   "source": [
    "let file = {l1 = [1;2;3;4]; l2 = [8;7;6;5]}"
   ]
  },
  {
   "cell_type": "code",
   "execution_count": 11,
   "id": "aa97855d-a049-4787-8a68-e4ac2cf92da6",
   "metadata": {},
   "outputs": [
    {
     "data": {
      "text/plain": [
       "- : bool = false\n"
      ]
     },
     "execution_count": 11,
     "metadata": {},
     "output_type": "execute_result"
    }
   ],
   "source": [
    "vide file "
   ]
  },
  {
   "cell_type": "code",
   "execution_count": 12,
   "id": "1921b697-b178-4cb9-90f8-5c593b087288",
   "metadata": {},
   "outputs": [
    {
     "data": {
      "text/plain": [
       "- : int file = {l1 = [0; 1; 2; 3; 4]; l2 = [8; 7; 6; 5]}\n"
      ]
     },
     "execution_count": 12,
     "metadata": {},
     "output_type": "execute_result"
    }
   ],
   "source": [
    "ajout 0 file"
   ]
  },
  {
   "cell_type": "code",
   "execution_count": 13,
   "id": "b7cffa82-1458-4626-95f2-6ac77fdad276",
   "metadata": {},
   "outputs": [
    {
     "data": {
      "text/plain": [
       "- : int * int file = (1, {l1 = [2; 3; 4]; l2 = [8; 7; 6; 5]})\n"
      ]
     },
     "execution_count": 13,
     "metadata": {},
     "output_type": "execute_result"
    }
   ],
   "source": [
    "suppr file"
   ]
  },
  {
   "cell_type": "code",
   "execution_count": null,
   "id": "e36abd9a-8283-4860-a111-d6b6df9281f0",
   "metadata": {},
   "outputs": [],
   "source": []
  }
 ],
 "metadata": {
  "kernelspec": {
   "display_name": "OCaml default",
   "language": "OCaml",
   "name": "ocaml-jupyter"
  },
  "language_info": {
   "codemirror_mode": "text/x-ocaml",
   "file_extension": ".ml",
   "mimetype": "text/x-ocaml",
   "name": "OCaml",
   "nbconverter_exporter": null,
   "pygments_lexer": "OCaml",
   "version": "4.08.1"
  }
 },
 "nbformat": 4,
 "nbformat_minor": 5
}
