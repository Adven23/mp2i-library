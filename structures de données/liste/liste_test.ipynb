{
 "cells": [
  {
   "cell_type": "code",
   "execution_count": 7,
   "id": "d4837546-bdbe-4929-99e4-4ac2e69df674",
   "metadata": {},
   "outputs": [
    {
     "name": "stdout",
     "output_type": "stream",
     "text": [
      "val somme : int list -> int = <fun>\n",
      "val appartient : 'a -> 'a list -> bool = <fun>\n",
      "val taille : 'a list -> int = <fun>\n",
      "val maximum : int list -> int = <fun>\n",
      "val minimum : int list -> int = <fun>\n",
      "val separe : 'a list -> 'a list * 'a list = <fun>\n",
      "val concat : 'a list -> 'a list -> 'a list = <fun>\n",
      "val egal : 'a list -> 'a list -> bool = <fun>\n",
      "val inverse : 'a list -> 'a list -> 'a list = <fun>\n"
     ]
    }
   ],
   "source": [
    "#use \"liste.ml\""
   ]
  },
  {
   "cell_type": "code",
   "execution_count": 8,
   "id": "eac201bb-c013-4251-a9cc-88c814b6f752",
   "metadata": {},
   "outputs": [
    {
     "data": {
      "text/plain": [
       "- : int = 10\n"
      ]
     },
     "execution_count": 8,
     "metadata": {},
     "output_type": "execute_result"
    }
   ],
   "source": [
    "somme [1;2;3;4]"
   ]
  },
  {
   "cell_type": "code",
   "execution_count": 9,
   "id": "53026fb8-89d5-4cf5-99e8-e221c1cf1695",
   "metadata": {},
   "outputs": [
    {
     "data": {
      "text/plain": [
       "- : bool = true\n"
      ]
     },
     "execution_count": 9,
     "metadata": {},
     "output_type": "execute_result"
    },
    {
     "data": {
      "text/plain": [
       "- : bool = false\n"
      ]
     },
     "execution_count": 9,
     "metadata": {},
     "output_type": "execute_result"
    }
   ],
   "source": [
    "appartient 2 [1;2;3;4] ;;\n",
    "appartient 5 [1;2;3;4]"
   ]
  },
  {
   "cell_type": "code",
   "execution_count": 10,
   "id": "b92f23cf-62a4-4552-a8a6-4012d7fad659",
   "metadata": {},
   "outputs": [
    {
     "data": {
      "text/plain": [
       "- : int = 4\n"
      ]
     },
     "execution_count": 10,
     "metadata": {},
     "output_type": "execute_result"
    }
   ],
   "source": [
    "taille [1;2;3;4]"
   ]
  },
  {
   "cell_type": "code",
   "execution_count": 11,
   "id": "08150c80-8984-4945-b269-4a1bf1e47f1f",
   "metadata": {},
   "outputs": [
    {
     "data": {
      "text/plain": [
       "- : int = 4\n"
      ]
     },
     "execution_count": 11,
     "metadata": {},
     "output_type": "execute_result"
    }
   ],
   "source": [
    "maximum [1;2;3;4]"
   ]
  },
  {
   "cell_type": "code",
   "execution_count": 12,
   "id": "0bb257f3-7d62-45fe-a142-c7c98eae9ee1",
   "metadata": {},
   "outputs": [
    {
     "data": {
      "text/plain": [
       "- : int = 1\n"
      ]
     },
     "execution_count": 12,
     "metadata": {},
     "output_type": "execute_result"
    }
   ],
   "source": [
    "minimum [1;2;3;4]"
   ]
  },
  {
   "cell_type": "code",
   "execution_count": 13,
   "id": "360b1f8d-e990-47c9-adc7-7637752198b6",
   "metadata": {},
   "outputs": [
    {
     "data": {
      "text/plain": [
       "- : int list * int list = ([1; 3; 5], [2; 4])\n"
      ]
     },
     "execution_count": 13,
     "metadata": {},
     "output_type": "execute_result"
    }
   ],
   "source": [
    "separe [1;2;3;4;5]"
   ]
  },
  {
   "cell_type": "code",
   "execution_count": 14,
   "id": "9ee73684-764c-4e4e-812d-0dda8dbdca9a",
   "metadata": {},
   "outputs": [
    {
     "data": {
      "text/plain": [
       "- : int list = [1; 2; 3; 4]\n"
      ]
     },
     "execution_count": 14,
     "metadata": {},
     "output_type": "execute_result"
    }
   ],
   "source": [
    "concat [1;2] [3;4]"
   ]
  },
  {
   "cell_type": "code",
   "execution_count": 15,
   "id": "d3ca486e-f60c-4681-9157-f055c9ce8efb",
   "metadata": {},
   "outputs": [
    {
     "data": {
      "text/plain": [
       "- : bool = true\n"
      ]
     },
     "execution_count": 15,
     "metadata": {},
     "output_type": "execute_result"
    },
    {
     "data": {
      "text/plain": [
       "- : bool = false\n"
      ]
     },
     "execution_count": 15,
     "metadata": {},
     "output_type": "execute_result"
    }
   ],
   "source": [
    "egal [1;2;3;4] [1;2;3;4] ;;\n",
    "egal [1;2;3;4] [5;6;7;8]"
   ]
  },
  {
   "cell_type": "code",
   "execution_count": 16,
   "id": "3362b3e5-5ba0-4e61-bf60-0dcdc749a17d",
   "metadata": {},
   "outputs": [
    {
     "data": {
      "text/plain": [
       "- : int list = [4; 3; 2; 1]\n"
      ]
     },
     "execution_count": 16,
     "metadata": {},
     "output_type": "execute_result"
    }
   ],
   "source": [
    "inverse [] [1;2;3;4]"
   ]
  },
  {
   "cell_type": "code",
   "execution_count": null,
   "id": "379f734f-e4d5-4f6e-b8ff-ebfd2d837274",
   "metadata": {},
   "outputs": [],
   "source": []
  }
 ],
 "metadata": {
  "kernelspec": {
   "display_name": "OCaml default",
   "language": "OCaml",
   "name": "ocaml-jupyter"
  },
  "language_info": {
   "codemirror_mode": "text/x-ocaml",
   "file_extension": ".ml",
   "mimetype": "text/x-ocaml",
   "name": "OCaml",
   "nbconverter_exporter": null,
   "pygments_lexer": "OCaml",
   "version": "4.08.1"
  }
 },
 "nbformat": 4,
 "nbformat_minor": 5
}
