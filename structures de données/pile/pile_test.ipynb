{
 "cells": [
  {
   "cell_type": "code",
   "execution_count": 2,
   "id": "5c74faa3-61c9-4e79-8a62-cb11fedd744a",
   "metadata": {},
   "outputs": [
    {
     "name": "stdout",
     "output_type": "stream",
     "text": [
      "type 'a pile = { t : 'a array; mutable n : int; }\n",
      "val vide : 'a pile -> bool = <fun>\n",
      "val ajout : 'a -> 'a pile -> unit = <fun>\n",
      "val suppr : 'a pile -> unit = <fun>\n"
     ]
    }
   ],
   "source": [
    "#use \"pile.ml\""
   ]
  },
  {
   "cell_type": "code",
   "execution_count": 8,
   "id": "97ac3e8b-5e48-4701-9ce8-3f980f8d279a",
   "metadata": {},
   "outputs": [
    {
     "data": {
      "text/plain": [
       "val pile : int pile = {t = [|1; 2; 3; 4|]; n = 2}\n"
      ]
     },
     "execution_count": 8,
     "metadata": {},
     "output_type": "execute_result"
    }
   ],
   "source": [
    "let pile = {t = [|1;2;3;4|]; n = 2}"
   ]
  },
  {
   "cell_type": "code",
   "execution_count": 9,
   "id": "9644d32d-775e-4a7f-bfa5-463231e6b31d",
   "metadata": {},
   "outputs": [
    {
     "data": {
      "text/plain": [
       "- : bool = false\n"
      ]
     },
     "execution_count": 9,
     "metadata": {},
     "output_type": "execute_result"
    }
   ],
   "source": [
    "vide pile"
   ]
  },
  {
   "cell_type": "code",
   "execution_count": 10,
   "id": "fa4d3b4c-35a9-4511-8afe-7e10cfd9cede",
   "metadata": {},
   "outputs": [
    {
     "data": {
      "text/plain": [
       "- : unit = ()\n"
      ]
     },
     "execution_count": 10,
     "metadata": {},
     "output_type": "execute_result"
    },
    {
     "data": {
      "text/plain": [
       "- : int pile = {t = [|1; 2; 5; 4|]; n = 3}\n"
      ]
     },
     "execution_count": 10,
     "metadata": {},
     "output_type": "execute_result"
    }
   ],
   "source": [
    "ajout 5 pile;;\n",
    "pile"
   ]
  },
  {
   "cell_type": "code",
   "execution_count": 12,
   "id": "863d5bde-1398-4e71-8343-54c181f6b6fb",
   "metadata": {},
   "outputs": [
    {
     "data": {
      "text/plain": [
       "- : unit = ()\n"
      ]
     },
     "execution_count": 12,
     "metadata": {},
     "output_type": "execute_result"
    },
    {
     "data": {
      "text/plain": [
       "- : int pile = {t = [|1; 2; 5; 4|]; n = 1}\n"
      ]
     },
     "execution_count": 12,
     "metadata": {},
     "output_type": "execute_result"
    }
   ],
   "source": [
    "suppr pile;;\n",
    "pile"
   ]
  },
  {
   "cell_type": "code",
   "execution_count": null,
   "id": "7327e8c5-059e-465d-883e-551d1b72716f",
   "metadata": {},
   "outputs": [],
   "source": []
  }
 ],
 "metadata": {
  "kernelspec": {
   "display_name": "OCaml default",
   "language": "OCaml",
   "name": "ocaml-jupyter"
  },
  "language_info": {
   "codemirror_mode": "text/x-ocaml",
   "file_extension": ".ml",
   "mimetype": "text/x-ocaml",
   "name": "OCaml",
   "nbconverter_exporter": null,
   "pygments_lexer": "OCaml",
   "version": "4.08.1"
  }
 },
 "nbformat": 4,
 "nbformat_minor": 5
}
