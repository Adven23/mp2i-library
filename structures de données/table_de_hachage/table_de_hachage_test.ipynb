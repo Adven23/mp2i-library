{
 "cells": [
  {
   "cell_type": "code",
   "execution_count": 2,
   "id": "c26ba0b6-52e6-495a-b359-1fa7912db175",
   "metadata": {},
   "outputs": [
    {
     "name": "stdout",
     "output_type": "stream",
     "text": [
      "type ('k, 'v) hashtable = { t : ('k * 'v) option array; h : 'k -> int; }\n",
      "val ajout : ('a, 'b) hashtable -> 'a * ('a * 'b) -> unit = <fun>\n",
      "val valeur : ('a, 'b) hashtable -> 'a -> ('a * 'b) option = <fun>\n",
      "val suppr : ('a, 'b) hashtable -> 'a -> unit = <fun>\n"
     ]
    }
   ],
   "source": [
    "#use \"table_de_hachage.ml\""
   ]
  },
  {
   "cell_type": "code",
   "execution_count": 25,
   "id": "47277bc5-ad08-45f3-ac08-3d6bb35cd240",
   "metadata": {},
   "outputs": [
    {
     "data": {
      "text/plain": [
       "val ht : (int, string) hashtable =\n",
       "  {t = [|Some (1, \"oui\"); Some (2, \"non\")|]; h = <fun>}\n"
      ]
     },
     "execution_count": 25,
     "metadata": {},
     "output_type": "execute_result"
    }
   ],
   "source": [
    "let ht = \n",
    "    {t = [|Some (1, \"oui\"); Some (2, \"non\")|]; h = (fun x -> x mod 1)} "
   ]
  },
  {
   "cell_type": "code",
   "execution_count": 26,
   "id": "e3b50242-5d5f-4b45-be11-44a0ad186132",
   "metadata": {},
   "outputs": [
    {
     "data": {
      "text/plain": [
       "- : unit = ()\n"
      ]
     },
     "execution_count": 26,
     "metadata": {},
     "output_type": "execute_result"
    },
    {
     "data": {
      "text/plain": [
       "- : (int, string) hashtable =\n",
       "{t = [|Some (3, \"peut-être\"); Some (2, \"non\")|]; h = <fun>}\n"
      ]
     },
     "execution_count": 26,
     "metadata": {},
     "output_type": "execute_result"
    }
   ],
   "source": [
    "ajout ht (1, (3, \"peut-être\"));;\n",
    "ht"
   ]
  },
  {
   "cell_type": "code",
   "execution_count": 27,
   "id": "dd354e09-65dd-47ad-a116-6a530e0a481d",
   "metadata": {},
   "outputs": [
    {
     "data": {
      "text/plain": [
       "- : (int * string) option = Some (3, \"peut-être\")\n"
      ]
     },
     "execution_count": 27,
     "metadata": {},
     "output_type": "execute_result"
    }
   ],
   "source": [
    "valeur ht 1"
   ]
  },
  {
   "cell_type": "code",
   "execution_count": 29,
   "id": "bf79daaa-1d4a-4a42-9790-7f6cc9c1e95a",
   "metadata": {},
   "outputs": [
    {
     "data": {
      "text/plain": [
       "- : unit = ()\n"
      ]
     },
     "execution_count": 29,
     "metadata": {},
     "output_type": "execute_result"
    },
    {
     "data": {
      "text/plain": [
       "- : (int, string) hashtable = {t = [|None; Some (2, \"non\")|]; h = <fun>}\n"
      ]
     },
     "execution_count": 29,
     "metadata": {},
     "output_type": "execute_result"
    }
   ],
   "source": [
    "suppr ht 1;;\n",
    "ht"
   ]
  },
  {
   "cell_type": "code",
   "execution_count": null,
   "id": "d82883d5-1ed7-47cd-828c-8e8f7f7c2432",
   "metadata": {},
   "outputs": [],
   "source": []
  }
 ],
 "metadata": {
  "kernelspec": {
   "display_name": "OCaml default",
   "language": "OCaml",
   "name": "ocaml-jupyter"
  },
  "language_info": {
   "codemirror_mode": "text/x-ocaml",
   "file_extension": ".ml",
   "mimetype": "text/x-ocaml",
   "name": "OCaml",
   "nbconverter_exporter": null,
   "pygments_lexer": "OCaml",
   "version": "4.08.1"
  }
 },
 "nbformat": 4,
 "nbformat_minor": 5
}
