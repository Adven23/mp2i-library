{
 "cells": [
  {
   "cell_type": "code",
   "execution_count": 19,
   "id": "8a5759b8-5aef-4556-bf70-e133c1fda8dc",
   "metadata": {},
   "outputs": [
    {
     "name": "stdout",
     "output_type": "stream",
     "text": [
      "type 'a t_dyn = { mutable t : 'a array; mutable n : int; }\n",
      "val copie : 'a array -> 'a array -> unit = <fun>\n",
      "val ajout : int -> int t_dyn -> unit = <fun>\n"
     ]
    }
   ],
   "source": [
    "#use \"tableau_dynamique.ml\""
   ]
  },
  {
   "cell_type": "code",
   "execution_count": 20,
   "id": "d66e8613-5f9e-45f4-9d0f-e075a02d468a",
   "metadata": {},
   "outputs": [
    {
     "data": {
      "text/plain": [
       "val t_dyn : int t_dyn = {t = [|1; 2; 3; 4|]; n = 2}\n"
      ]
     },
     "execution_count": 20,
     "metadata": {},
     "output_type": "execute_result"
    }
   ],
   "source": [
    "let t_dyn = {t = [|1;2;3;4|]; n = 2}"
   ]
  },
  {
   "cell_type": "code",
   "execution_count": 21,
   "id": "1daf7b6b-bbe7-4216-b472-9a906e1cf0c3",
   "metadata": {},
   "outputs": [
    {
     "data": {
      "text/plain": [
       "- : unit = ()\n"
      ]
     },
     "execution_count": 21,
     "metadata": {},
     "output_type": "execute_result"
    },
    {
     "data": {
      "text/plain": [
       "- : int t_dyn =\n",
       "{t = [|1; 2; 3; 4; 5; 6; 7; 8; 9; 10; 11; 12; 13; 14; 0; 0|]; n = 13}\n"
      ]
     },
     "execution_count": 21,
     "metadata": {},
     "output_type": "execute_result"
    }
   ],
   "source": [
    "for i=0 to 10 do \n",
    "    ajout (i+4) t_dyn \n",
    "    done;;\n",
    "t_dyn"
   ]
  },
  {
   "cell_type": "code",
   "execution_count": null,
   "id": "1e5187a9-12fe-4375-b679-a537ced898ea",
   "metadata": {},
   "outputs": [],
   "source": []
  }
 ],
 "metadata": {
  "kernelspec": {
   "display_name": "OCaml default",
   "language": "OCaml",
   "name": "ocaml-jupyter"
  },
  "language_info": {
   "codemirror_mode": "text/x-ocaml",
   "file_extension": ".ml",
   "mimetype": "text/x-ocaml",
   "name": "OCaml",
   "nbconverter_exporter": null,
   "pygments_lexer": "OCaml",
   "version": "4.08.1"
  }
 },
 "nbformat": 4,
 "nbformat_minor": 5
}
